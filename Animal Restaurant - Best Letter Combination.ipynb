{
 "cells": [
  {
   "cell_type": "code",
   "execution_count": 2,
   "id": "c58c6043",
   "metadata": {},
   "outputs": [],
   "source": [
    "import requests\n",
    "from bs4 import BeautifulSoup\n",
    "import pandas as pd "
   ]
  },
  {
   "cell_type": "markdown",
   "id": "32397d20",
   "metadata": {},
   "source": [
    "The goal of this exploration is to find out the best combination for letter requirements in the mobile game \"Animal Restaurant\".\n",
    "\n",
    "Letters Wiki [https://animalrestaurant.fandom.com/wiki/Letters]\n",
    "According to documentation there are 169 letters but some are only available seasonally. Each letter and the combination of flowers required are listed in a table which we can probably easily scrape. \n",
    "\n",
    "Flowers Wiki [https://animalrestaurant.fandom.com/wiki/Garden#Flowers]\n",
    "There are currently 14 types of items listed that could potentially be included in a combination. There is no uniform way to scrape the flowers so that each run includes the most up to date information, so unfortnately for now we will have to hard-code those flower values in. \n",
    "\n",
    "- Daisy\n",
    "- Sunflower\n",
    "- Rose\n",
    "- Bluebell \n",
    "- White Rose\n",
    "- Sakura\n",
    "- Four Leaf Clover\n",
    "- Maple Leaf\n",
    "- Snowflake\n",
    "- Iron Watering Can\n",
    "- Copper Watering Can\n",
    "- Gold Watering Can\n",
    "- Seed\n",
    "- Dream Seed (We can probably omit this one as it is not included in any combinations) "
   ]
  },
  {
   "cell_type": "code",
   "execution_count": 4,
   "id": "e7c47a40",
   "metadata": {},
   "outputs": [],
   "source": [
    "# Create a list of possible items to included in combinations\n",
    "combination_length = 3\n",
    "possible_combination_items = [\n",
    "    \"Daisy\",\n",
    "    \"Sunflower\",\n",
    "    \"Rose\",\n",
    "    \"Bluebell\",\n",
    "    \"White Rose\",\n",
    "    \"Sakura\",\n",
    "    \"Four Leaf Clover\",\n",
    "    \"Maple Leaf\",\n",
    "    \"Snowflake\",\n",
    "    \"Iron Watering Can\",\n",
    "    \"Copper Watering Can\",\n",
    "    \"Gold Watering Can\",\n",
    "    \"Seed\"\n",
    "]\n"
   ]
  },
  {
   "cell_type": "markdown",
   "id": "6ea780d8",
   "metadata": {},
   "source": [
    "The method I will use to figure out the most profitable combinations is: \n",
    "\n",
    "- Create a list of all possible items combinations.\n",
    "- Scrape letters from letters wiki (possibly create object for each letter so we can track what each letter requires and unlocks) \n",
    "- Loop through letters and add a reference to each item combination. "
   ]
  }
 ],
 "metadata": {
  "kernelspec": {
   "display_name": "Python 3 (ipykernel)",
   "language": "python",
   "name": "python3"
  },
  "language_info": {
   "codemirror_mode": {
    "name": "ipython",
    "version": 3
   },
   "file_extension": ".py",
   "mimetype": "text/x-python",
   "name": "python",
   "nbconvert_exporter": "python",
   "pygments_lexer": "ipython3",
   "version": "3.10.4"
  }
 },
 "nbformat": 4,
 "nbformat_minor": 5
}
